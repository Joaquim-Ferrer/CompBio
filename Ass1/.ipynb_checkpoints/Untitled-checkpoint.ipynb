{
 "cells": [
  {
   "cell_type": "markdown",
   "metadata": {},
   "source": [
    "##\n",
    "TITLE"
   ]
  },
  {
   "cell_type": "markdown",
   "metadata": {},
   "source": [
    "First Part"
   ]
  },
  {
   "cell_type": "code",
   "execution_count": 16,
   "metadata": {},
   "outputs": [
    {
     "name": "stdout",
     "output_type": "stream",
     "text": [
      "{(log(2)/20, 10), (ImageSet(Lambda(_n, _n*I*pi/10 + Mod(Mod(log(2), 2*I*pi)/20, I*pi/10)), S.Integers), 10)}\n"
     ]
    }
   ],
   "source": [
    "from sympy import Symbol, Function\n",
    "from sympy import integrate\n",
    "from sympy import *\n",
    "\n",
    "C, t, C1 = symbols(\"C t C1\")\n",
    "x = Function(\"x\")\n",
    "\n",
    "diffeq = Eq(x(t).diff(t), C*x(t))\n",
    "sol = dsolve(diffeq, x(t)).rhs\n",
    "\n",
    "conditions = (sol.subs(t, 0) - 10, sol.subs(t, 20) - 20)\n",
    "solutions = nonlinsolve(conditions, (C, C1))\n",
    "\n",
    "print(solutions)"
   ]
  },
  {
   "cell_type": "code",
   "execution_count": 72,
   "metadata": {
    "collapsed": true
   },
   "outputs": [],
   "source": [
    "#TODO 1b"
   ]
  },
  {
   "cell_type": "markdown",
   "metadata": {},
   "source": [
    "Second Part"
   ]
  },
  {
   "cell_type": "code",
   "execution_count": 27,
   "metadata": {
    "collapsed": true
   },
   "outputs": [],
   "source": [
    "my_data = [[0.5,1.27],[0.6,6.58],[0.7,7.00],[0.8,8.83],[0.9,8.66],[1.0,5.53],[1.1,9.33],[1.2,14.57],[1.3,8.51],[1.4,17.61],[1.5,12.94],[1.6,18.45],[1.7,19.85],[1.8,25.03],[1.9,28.14],[2.0,28.31],[2.1,33.41],[2.2,41.43],[2.3,40.87],[2.4,56.71],[2.5,59.32]]\n",
    "\n",
    "my_data_x = [a for a,b in my_data]\n",
    "my_data_y = [b for a,b in my_data]"
   ]
  },
  {
   "cell_type": "code",
   "execution_count": 29,
   "metadata": {
    "collapsed": true
   },
   "outputs": [],
   "source": [
    "import numpy as np\n",
    "first_deg_fit = np.poly1d(np.polyfit(my_data_x, my_data_y, 1))\n",
    "second_deg_fit = np.poly1d(np.polyfit(my_data_x, my_data_y, 2))\n",
    "third_deg_fit = np.poly1d(np.polyfit(my_data_x, my_data_y, 3))\n",
    "\n",
    "first_y = first_deg_fit(my_data_x)\n",
    "second_y = second_deg_fit(my_data_x)\n",
    "third_y = third_deg_fit(my_data_x)\n",
    "\n"
   ]
  }
 ],
 "metadata": {
  "kernelspec": {
   "display_name": "Python [conda root]",
   "language": "python",
   "name": "conda-root-py"
  },
  "language_info": {
   "codemirror_mode": {
    "name": "ipython",
    "version": 3
   },
   "file_extension": ".py",
   "mimetype": "text/x-python",
   "name": "python",
   "nbconvert_exporter": "python",
   "pygments_lexer": "ipython3",
   "version": "3.6.3"
  }
 },
 "nbformat": 4,
 "nbformat_minor": 2
}
