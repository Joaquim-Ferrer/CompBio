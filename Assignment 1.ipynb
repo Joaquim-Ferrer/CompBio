{
 "cells": [
  {
   "cell_type": "markdown",
   "metadata": {},
   "source": [
    "Assignment 1 - Introduction to Computational Biology Labs"
   ]
  },
  {
   "cell_type": "markdown",
   "metadata": {},
   "source": [
    "Rianne van Drimmelen (11073209)\n",
    "Joaquim Ferrer (12278327)"
   ]
  },
  {
   "cell_type": "markdown",
   "metadata": {},
   "source": [
    "Introduction\n",
    "\n",
    "In this assignment, we aim to solve several differential equations. \n",
    "To do so, we will be using Python 3. "
   ]
  },
  {
   "cell_type": "markdown",
   "metadata": {},
   "source": [
    "1. Bacterial Growth\n",
    "\n",
    "First we examined the growth of the bacterial density in a petri dish. By integrating the function dx/dt=Cx, we find the growth equation and knowing the initial density of 10/ml and that it takes 20 hours for this density to double, we calculate constant C. Subsequently, we examine the time it takes for the density, to increase to 8 times, and ten times its original value by setting the equation equal to 80/ml and 100/ml and solving the equation for t."
   ]
  },
  {
   "cell_type": "code",
   "execution_count": 28,
   "metadata": {},
   "outputs": [
    {
     "name": "stdout",
     "output_type": "stream",
     "text": [
      "(log(2)/20, 10)\n"
     ]
    }
   ],
   "source": [
    "from sympy import Symbol, Function\n",
    "from sympy import integrate\n",
    "from sympy import *\n",
    "\n",
    "C, t, C1 = symbols(\"C t C1\")\n",
    "x = Function(\"x\")\n",
    "\n",
    "diffeq = Eq(x(t).diff(t), C*x(t))\n",
    "sol = dsolve(diffeq, x(t)).rhs\n",
    "\n",
    "conditions = (sol.subs(t, 0) - 10, sol.subs(t, 20) - 20)\n",
    "solutions = nonlinsolve(conditions, (C, C1))\n",
    "\n",
    "real_sol = list(solutions)[0]\n",
    "print(real_sol)"
   ]
  },
  {
   "cell_type": "code",
   "execution_count": 30,
   "metadata": {},
   "outputs": [
    {
     "name": "stdout",
     "output_type": "stream",
     "text": [
      "[60]\n",
      "[20*log(10)/log(2)]\n"
     ]
    }
   ],
   "source": [
    "eq8 = Eq(80, 10*exp((log(2)/20)*t))\n",
    "sol8 = solve(eq8, t)\n",
    "print(sol8)\n",
    "\n",
    "eq10 = Eq(100, 10*exp((log(2)/20)*t))\n",
    "sol10 = solve(eq10, t)\n",
    "print(sol10)"
   ]
  },
  {
   "cell_type": "markdown",
   "metadata": {},
   "source": [
    "2. Fitting linear or exponential to growth data\n",
    "\n",
    "In this part, we aimed to fit a given dataset to a function. We first examined the dataset, to decide what better describes the data, linear or exponential growth. This is done by fitting the data to several functions, plotting them, and finding the error of both fits. "
   ]
  },
  {
   "cell_type": "code",
   "execution_count": 31,
   "metadata": {},
   "outputs": [],
   "source": [
    "my_data = [[0.5,1.27],[0.6,6.58],[0.7,7.00],[0.8,8.83],[0.9,8.66],[1.0,5.53],[1.1,9.33],[1.2,14.57],[1.3,8.51],[1.4,17.61],[1.5,12.94],[1.6,18.45],[1.7,19.85],[1.8,25.03],[1.9,28.14],[2.0,28.31],[2.1,33.41],[2.2,41.43],[2.3,40.87],[2.4,56.71],[2.5,59.32]]\n",
    "\n",
    "my_data_x = [a for a,b in my_data]\n",
    "my_data_y = [b for a,b in my_data]"
   ]
  },
  {
   "cell_type": "code",
   "execution_count": 32,
   "metadata": {},
   "outputs": [
    {
     "name": "stdout",
     "output_type": "stream",
     "text": [
      "[ 24.97883117 -15.92777056]\n",
      "[ 16.01095129 -23.0540227   14.2261877 ]\n",
      "[ 10.16326499 -29.72374117  38.86058762 -10.0436891 ]\n"
     ]
    }
   ],
   "source": [
    "import numpy as np\n",
    "\n",
    "max_degree = 4\n",
    "fitted_funcs = [np.poly1d(np.polyfit(my_data_x, my_data_y, i)) for i in range(1, max_degree)]\n",
    "\n",
    "for fitted_func in fitted_funcs:\n",
    "    print(fitted_func.c)\n",
    "\n",
    "preds = [fitted_func(my_data_x) for fitted_func in fitted_funcs]"
   ]
  },
  {
   "cell_type": "code",
   "execution_count": 33,
   "metadata": {},
   "outputs": [
    {
     "data": {
      "image/png": "[encoded data removed]",
      "text/plain": [
       "<Figure size 432x288 with 1 Axes>"
      ]
     },
     "metadata": {
      "needs_background": "light"
     },
     "output_type": "display_data"
    }
   ],
   "source": [
    "import matplotlib.pyplot as plt\n",
    "%matplotlib inline\n",
    "\n",
    "plt.plot(my_data_x, my_data_y, 'o')\n",
    "for i_f, fitted_func in enumerate(fitted_funcs):\n",
    "    plt.plot(my_data_x, preds[i_f])"
   ]
  },
  {
   "cell_type": "markdown",
   "metadata": {},
   "source": [
    "The data fits much better with a second order polynomial than with a first order polynomial. Therefore, whatever it represents, grows exponentially.\n",
    "\n",
    "We chose the degree of the polynomial to be 2, because it fits the data well enough. Obviously, as we increase the degree, we will find better fits (even a curve that completely fits the data), but we assume the data is noisy, and a high degree will overfit.\n",
    "\n",
    "Do we assume the data is noisy? We can fit it perfectly with degree = 100."
   ]
  },
  {
   "cell_type": "code",
   "execution_count": 34,
   "metadata": {},
   "outputs": [
    {
     "name": "stdout",
     "output_type": "stream",
     "text": [
      "Coefficients of the polynomial which is the derivative of the fitted function [ 32.02190258 -23.0540227 ]\n"
     ]
    }
   ],
   "source": [
    "chosen_degree = 2\n",
    "fitted_func = fitted_funcs[chosen_degree -1]\n",
    "print(\"Coefficients of the polynomial which is the derivative of the fitted function\", fitted_func.deriv().c) #Coefficients of the derivative. The corresponding degrees are in decreasing order but check"
   ]
  },
  {
   "cell_type": "code",
   "execution_count": 35,
   "metadata": {},
   "outputs": [
    {
     "name": "stdout",
     "output_type": "stream",
     "text": [
      "The mean absolute error of the fitted function is  2.481068373927475\n"
     ]
    }
   ],
   "source": [
    "mean_absolute_error = sum([abs(fitted_func(my_data_x[i]) - my_data_y[i]) for i in range(len(my_data_x))])/len(my_data_x)\n",
    "print(\"The mean absolute error of the fitted function is \", mean_absolute_error)"
   ]
  },
  {
   "cell_type": "code",
   "execution_count": null,
   "metadata": {},
   "outputs": [],
   "source": [
    "################ We need the error of both fits."
   ]
  },
  {
   "cell_type": "markdown",
   "metadata": {},
   "source": [
    "3. The SIR model - Seasonal epidemics\n",
    "\n",
    "The SIR model can be used to study how the probability of getting a disease varies with the seasons of the year. We examined how the fractions of susceptible (S), infective (I), and recovered (R) individuals in the populations change over time by varying the death rate, recovery rate, season length, initial infections rate and the amount of initially infected and plotting them."
   ]
  },
  {
   "cell_type": "code",
   "execution_count": 45,
   "metadata": {},
   "outputs": [],
   "source": [
    "S = Function(\"S\")\n",
    "I = Function(\"I\")\n",
    "R = Function(\"R\")\n",
    "Beta = Function(\"Beta\")\n",
    "\n",
    "beta_0, S_0, I_0, R_0 = symbols(\"beta_0 S_0 I_0 R_0\")\n",
    "\n",
    "mu, gamma, t, T = symbols(\"mu gamma t T\")\n",
    "\n",
    "S_eq = Eq(S(t).diff(t), mu - mu*S(t) - Beta(t) * I(t) * S(t))\n",
    "I_eq = Eq(I(t).diff(t), Beta(t)*I(t)*S(t) - (gamma + mu)*I(t))\n",
    "R_eq = Eq(R(t).diff(t), gamma*I(t) - mu*R(t))\n",
    "\n",
    "reproduction_rate = integrate(Beta(t)/(mu + gamma), (t, 0, T)) / T\n",
    "\n",
    "Beta = beta_0 * (1+ sin(2*pi*t/T))"
   ]
  },
  {
   "cell_type": "code",
   "execution_count": 46,
   "metadata": {},
   "outputs": [],
   "source": [
    "S = dsolve(S_eq).rhs\n",
    "I = dsolve(I_eq).rhs\n",
    "R = dsolve(R_eq).rhs"
   ]
  },
  {
   "cell_type": "code",
   "execution_count": 49,
   "metadata": {},
   "outputs": [],
   "source": [
    "d = [(mu, 0.5),(gamma, 0.5),(T, 15)]\n",
    "\n",
    "S = S.subs(d)\n",
    "I = I.subs(d)\n",
    "R = R.subs(d)"
   ]
  },
  {
   "cell_type": "code",
   "execution_count": null,
   "metadata": {},
   "outputs": [],
   "source": []
  }
 ],
 "metadata": {
  "kernelspec": {
   "display_name": "Python 3",
   "language": "python",
   "name": "python3"
  },
  "language_info": {
   "codemirror_mode": {
    "name": "ipython",
    "version": 3
   },
   "file_extension": ".py",
   "mimetype": "text/x-python",
   "name": "python",
   "nbconvert_exporter": "python",
   "pygments_lexer": "ipython3",
   "version": "3.7.1"
  }
 },
 "nbformat": 4,
 "nbformat_minor": 2
}
